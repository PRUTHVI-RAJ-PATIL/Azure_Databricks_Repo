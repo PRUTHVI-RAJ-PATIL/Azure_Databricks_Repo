{
 "cells": [
  {
   "cell_type": "code",
   "execution_count": 0,
   "metadata": {
    "application/vnd.databricks.v1+cell": {
     "cellMetadata": {
      "byteLimit": 2048000,
      "implicitDf": true,
      "rowLimit": 10000
     },
     "inputWidgets": {},
     "nuid": "9181ab43-6f31-43ba-aed0-16da76aa59b3",
     "showTitle": false,
     "tableResultSettingsMap": {},
     "title": ""
    }
   },
   "outputs": [],
   "source": [
    "%sql\n",
    "CREATE TABLE students\n",
    "  (id INT, name STRING, value DOUBLE);"
   ]
  },
  {
   "cell_type": "code",
   "execution_count": 0,
   "metadata": {
    "application/vnd.databricks.v1+cell": {
     "cellMetadata": {
      "byteLimit": 2048000,
      "implicitDf": true,
      "rowLimit": 10000
     },
     "inputWidgets": {},
     "nuid": "5e7d1816-a795-4e76-b423-ccd2f266a5a1",
     "showTitle": false,
     "tableResultSettingsMap": {},
     "title": ""
    }
   },
   "outputs": [],
   "source": [
    "%sql\n",
    "CREATE TABLE IF NOT EXISTS students \n",
    "  (id INT, name STRING, value DOUBLE)"
   ]
  },
  {
   "cell_type": "code",
   "execution_count": 0,
   "metadata": {
    "application/vnd.databricks.v1+cell": {
     "cellMetadata": {
      "byteLimit": 2048000,
      "implicitDf": true,
      "rowLimit": 10000
     },
     "inputWidgets": {},
     "nuid": "adfac8e2-8c81-4505-91af-49639e9edd3b",
     "showTitle": false,
     "tableResultSettingsMap": {},
     "title": ""
    }
   },
   "outputs": [],
   "source": [
    "%sql\n",
    "INSERT INTO students VALUES (1, \"Yve\", 1.0);\n",
    "INSERT INTO students VALUES (2, \"Omar\", 2.5);\n",
    "INSERT INTO students VALUES (3, \"Elia\", 3.3);"
   ]
  },
  {
   "cell_type": "code",
   "execution_count": 0,
   "metadata": {
    "application/vnd.databricks.v1+cell": {
     "cellMetadata": {
      "byteLimit": 2048000,
      "implicitDf": true,
      "rowLimit": 10000
     },
     "inputWidgets": {},
     "nuid": "0782c4b7-3e20-437e-b07e-9d289c66ca13",
     "showTitle": false,
     "tableResultSettingsMap": {},
     "title": ""
    }
   },
   "outputs": [],
   "source": [
    "%sql\n",
    "SELECT * FROM students"
   ]
  },
  {
   "cell_type": "code",
   "execution_count": 0,
   "metadata": {
    "application/vnd.databricks.v1+cell": {
     "cellMetadata": {
      "byteLimit": 2048000,
      "implicitDf": true,
      "rowLimit": 10000
     },
     "inputWidgets": {},
     "nuid": "221ad499-37ad-433a-b9f2-1faa02907741",
     "showTitle": false,
     "tableResultSettingsMap": {},
     "title": ""
    }
   },
   "outputs": [],
   "source": [
    "%sql\n",
    "INSERT INTO students\n",
    "VALUES \n",
    "  (4, \"Ted\", 4.7),\n",
    "  (5, \"Tiffany\", 5.5),\n",
    "  (6, \"Vini\", 6.3)"
   ]
  },
  {
   "cell_type": "code",
   "execution_count": 0,
   "metadata": {
    "application/vnd.databricks.v1+cell": {
     "cellMetadata": {
      "byteLimit": 2048000,
      "implicitDf": true,
      "rowLimit": 10000
     },
     "inputWidgets": {},
     "nuid": "c11bdb72-0098-4c6d-835c-4c6f14f802ad",
     "showTitle": false,
     "tableResultSettingsMap": {},
     "title": ""
    }
   },
   "outputs": [],
   "source": [
    "%sql\n",
    "SELECT * FROM students"
   ]
  },
  {
   "cell_type": "code",
   "execution_count": 0,
   "metadata": {
    "application/vnd.databricks.v1+cell": {
     "cellMetadata": {
      "byteLimit": 2048000,
      "implicitDf": true,
      "rowLimit": 10000
     },
     "inputWidgets": {},
     "nuid": "881f06f7-27b5-4537-b1b2-6c8b02315856",
     "showTitle": false,
     "tableResultSettingsMap": {},
     "title": ""
    }
   },
   "outputs": [],
   "source": [
    "%sql\n",
    "UPDATE students \n",
    "SET value = value + 1\n",
    "WHERE name LIKE \"T%\""
   ]
  },
  {
   "cell_type": "code",
   "execution_count": 0,
   "metadata": {
    "application/vnd.databricks.v1+cell": {
     "cellMetadata": {
      "byteLimit": 2048000,
      "implicitDf": true,
      "rowLimit": 10000
     },
     "inputWidgets": {},
     "nuid": "346c3fd5-8b48-4222-bba1-6999f9615a73",
     "showTitle": false,
     "tableResultSettingsMap": {},
     "title": ""
    }
   },
   "outputs": [],
   "source": [
    "%sql\n",
    "SELECT * FROM students"
   ]
  },
  {
   "cell_type": "code",
   "execution_count": 0,
   "metadata": {
    "application/vnd.databricks.v1+cell": {
     "cellMetadata": {
      "byteLimit": 2048000,
      "rowLimit": 10000
     },
     "inputWidgets": {},
     "nuid": "6d369dd0-e3ac-4908-a3eb-4aee3b53f0cd",
     "showTitle": false,
     "tableResultSettingsMap": {},
     "title": ""
    }
   },
   "outputs": [],
   "source": [
    "%python\n",
    "spark.sql(\"\"\"\n",
    "DELETE FROM students \n",
    "WHERE value > 6\n",
    "\"\"\")"
   ]
  },
  {
   "cell_type": "code",
   "execution_count": 0,
   "metadata": {
    "application/vnd.databricks.v1+cell": {
     "cellMetadata": {
      "byteLimit": 2048000,
      "implicitDf": true,
      "rowLimit": 10000
     },
     "inputWidgets": {},
     "nuid": "c5d04bdc-039e-4823-90d0-4350cbe18479",
     "showTitle": false,
     "tableResultSettingsMap": {},
     "title": ""
    }
   },
   "outputs": [],
   "source": [
    "%sql\n",
    "SELECT * FROM students"
   ]
  },
  {
   "cell_type": "markdown",
   "metadata": {
    "application/vnd.databricks.v1+cell": {
     "cellMetadata": {},
     "inputWidgets": {},
     "nuid": "cfc11651-c00b-453a-876d-781b4f8e1a7f",
     "showTitle": false,
     "tableResultSettingsMap": {},
     "title": ""
    }
   },
   "source": [
    "%md\n",
    "\n",
    "\n",
    "\n",
    "## Using Merge\n",
    "\n",
    "Some SQL systems have the concept of an upsert, which allows updates, inserts, and other data manipulations to be run as a single command.\n",
    "\n",
    "Databricks uses the **`MERGE`** keyword to perform this operation.\n",
    "\n",
    "Consider the following temporary view, which contains 4 records that might be output by a Change Data Capture (CDC) feed."
   ]
  },
  {
   "cell_type": "code",
   "execution_count": 0,
   "metadata": {
    "application/vnd.databricks.v1+cell": {
     "cellMetadata": {
      "byteLimit": 2048000,
      "implicitDf": true,
      "rowLimit": 10000
     },
     "inputWidgets": {},
     "nuid": "67515c90-f6c3-42f9-aae8-72cb1a99e237",
     "showTitle": false,
     "tableResultSettingsMap": {},
     "title": ""
    }
   },
   "outputs": [],
   "source": [
    "%sql\n",
    "CREATE OR REPLACE TEMP VIEW updates(id, name, value, type) AS VALUES\n",
    "  (2, \"Omar\", 15.2, \"update\"),\n",
    "  (3, \"\", null, \"delete\"),\n",
    "  (7, \"Blue\", 7.7, \"insert\"),\n",
    "  (11, \"Diya\", 8.8, \"update\");\n",
    "  \n",
    "SELECT * FROM updates;"
   ]
  },
  {
   "cell_type": "code",
   "execution_count": 0,
   "metadata": {
    "application/vnd.databricks.v1+cell": {
     "cellMetadata": {
      "byteLimit": 2048000,
      "implicitDf": true,
      "rowLimit": 10000
     },
     "inputWidgets": {},
     "nuid": "97195511-5bdd-4f6d-b534-8f6bd34544d8",
     "showTitle": false,
     "tableResultSettingsMap": {},
     "title": ""
    }
   },
   "outputs": [],
   "source": [
    "%sql\n",
    "MERGE INTO students b\n",
    "USING updates u\n",
    "ON b.id=u.id\n",
    "WHEN MATCHED AND u.type = \"update\"\n",
    "  THEN UPDATE SET *\n",
    "WHEN MATCHED AND u.type = \"delete\"\n",
    "  THEN DELETE\n",
    "WHEN NOT MATCHED AND u.type = \"insert\"\n",
    "  THEN INSERT *"
   ]
  },
  {
   "cell_type": "markdown",
   "metadata": {
    "application/vnd.databricks.v1+cell": {
     "cellMetadata": {},
     "inputWidgets": {},
     "nuid": "8760fdcf-6e7e-4232-9ff9-7c42223931d3",
     "showTitle": false,
     "tableResultSettingsMap": {},
     "title": ""
    }
   },
   "source": [
    "%md\n",
    "The query you provided performs a **MERGE operation** to synchronize the data between the `students` table (target) and the `updates` temporary view (source). Here's a detailed explanation of the query:\n",
    "\n",
    "---\n",
    "\n",
    "### **Query Breakdown:**\n",
    "\n",
    "#### **1. `MERGE INTO students b USING updates u ON b.id=u.id`**\n",
    "   - **What it does**: This merges data from the `updates` view (`u`) into the `students` table (`b`), based on a condition.\n",
    "   - **Condition**: `ON b.id = u.id`\n",
    "     - Matches rows in `students` (`b`) and `updates` (`u`) where the `id` values are the same.\n",
    "\n",
    "#### **2. `WHEN MATCHED` Clauses**\n",
    "   - These clauses handle cases where a row in `students` has the same `id` as a row in `updates`.\n",
    "\n",
    "   - **First Clause:**\n",
    "     ```sql\n",
    "     WHEN MATCHED AND u.type = \"update\"\n",
    "       THEN UPDATE SET *\n",
    "     ```\n",
    "     - **Condition**: The rows match by `id`, and the `type` in `updates` is `\"update\"`.\n",
    "     - **Action**: Updates all columns (`*`) in `students` with the corresponding values from `updates`.\n",
    "\n",
    "   - **Second Clause:**\n",
    "     ```sql\n",
    "     WHEN MATCHED AND u.type = \"delete\"\n",
    "       THEN DELETE\n",
    "     ```\n",
    "     - **Condition**: The rows match by `id`, and the `type` in `updates` is `\"delete\"`.\n",
    "     - **Action**: Deletes the matching row from `students`.\n",
    "\n",
    "#### **3. `WHEN NOT MATCHED` Clause**\n",
    "   - **Condition**: There is no matching `id` in `students` for the `id` in `updates`, and the `type` in `updates` is `\"insert\"`.\n",
    "   - **Action**:\n",
    "     ```sql\n",
    "     WHEN NOT MATCHED AND u.type = \"insert\"\n",
    "       THEN INSERT *\n",
    "     ```\n",
    "     - Inserts a new row into `students` with all columns from `updates`.\n",
    "\n",
    "---\n",
    "\n",
    "### **Example Execution:**\n",
    "\n",
    "#### Initial `students` Table:\n",
    "| id  | name     | value  |\n",
    "|------|----------|--------|\n",
    "| 2    | Omar     | 2.5    |\n",
    "| 3    | Elia     | 3.3    |\n",
    "| 4    | Ted      | 4.7    |\n",
    "\n",
    "#### `updates` Temporary View:\n",
    "| id  | name   | value  | type    |\n",
    "|-----|--------|--------|---------|\n",
    "| 2   | Omar   | 15.2   | update  |\n",
    "| 3   |        | null   | delete  |\n",
    "| 7   | Blue   | 7.7    | insert  |\n",
    "| 11  | Diya   | 8.8    | update  |\n",
    "\n",
    "---\n",
    "\n",
    "### **Steps and Results After Merge:**\n",
    "\n",
    "1. **`WHEN MATCHED AND u.type = \"update\"`**\n",
    "   - Row with `id = 2` is updated: `value = 15.2`.\n",
    "   - Row with `id = 11` is skipped as it doesn’t exist in `students`.\n",
    "\n",
    "2. **`WHEN MATCHED AND u.type = \"delete\"`**\n",
    "   - Row with `id = 3` is deleted.\n",
    "\n",
    "3. **`WHEN NOT MATCHED AND u.type = \"insert\"`**\n",
    "   - Row with `id = 7` is inserted.\n",
    "\n",
    "---\n",
    "\n",
    "#### Final `students` Table:\n",
    "| id  | name     | value  |\n",
    "|-----|----------|--------|\n",
    "| 2   | Omar     | 15.2   |\n",
    "| 4   | Ted      | 4.7    |\n",
    "| 7   | Blue     | 7.7    |\n",
    "\n",
    "---\n",
    "\n",
    "### **Key Points:**\n",
    "\n",
    "- The `MERGE` operation simplifies conditional updates, inserts, and deletions in a single query.\n",
    "- The use of `SET *` and `INSERT *` updates/inserts all columns directly. This approach assumes column alignment between the target and source.\n",
    "- It's ideal for syncing data between tables or applying change data capture (CDC) updates.\n",
    "\n",
    "Let me know if you’d like further examples or explanations! 😊"
   ]
  },
  {
   "cell_type": "code",
   "execution_count": 0,
   "metadata": {
    "application/vnd.databricks.v1+cell": {
     "cellMetadata": {},
     "inputWidgets": {},
     "nuid": "7709373f-9a6c-4cb1-95a7-3744a522cdbe",
     "showTitle": false,
     "tableResultSettingsMap": {},
     "title": ""
    }
   },
   "outputs": [],
   "source": [
    "%sql\n",
    "DROP TABLE students"
   ]
  },
  {
   "cell_type": "code",
   "execution_count": 0,
   "metadata": {
    "application/vnd.databricks.v1+cell": {
     "cellMetadata": {
      "byteLimit": 2048000,
      "rowLimit": 10000
     },
     "inputWidgets": {},
     "nuid": "314abef9-4533-41a4-91ce-fd083053a3c9",
     "showTitle": false,
     "tableResultSettingsMap": {},
     "title": ""
    }
   },
   "outputs": [],
   "source": [
    "CREATE TABLE IF NOT EXISTS beans\n",
    " (name\tSTRING,color\tSTRING,grams\tFLOAT,delicious\tBOOLEAN);"
   ]
  },
  {
   "cell_type": "code",
   "execution_count": 0,
   "metadata": {
    "application/vnd.databricks.v1+cell": {
     "cellMetadata": {
      "byteLimit": 2048000,
      "rowLimit": 10000
     },
     "inputWidgets": {},
     "nuid": "751cd95a-8c4f-4a04-8f09-7bee9f7e6332",
     "showTitle": false,
     "tableResultSettingsMap": {},
     "title": ""
    }
   },
   "outputs": [],
   "source": [
    "SELECT * FROM beans"
   ]
  },
  {
   "cell_type": "code",
   "execution_count": 0,
   "metadata": {
    "application/vnd.databricks.v1+cell": {
     "cellMetadata": {
      "byteLimit": 2048000,
      "rowLimit": 10000
     },
     "inputWidgets": {},
     "nuid": "54cc2866-dfb7-4ae8-a850-d43f213cc2f4",
     "showTitle": false,
     "tableResultSettingsMap": {},
     "title": ""
    }
   },
   "outputs": [],
   "source": [
    "INSERT INTO beans VALUES\n",
    "(\"black\", \"black\", 500, true),\n",
    "(\"lentils\", \"brown\", 1000, true),\n",
    "(\"jelly\", \"rainbow\", 42.5, false)"
   ]
  },
  {
   "cell_type": "code",
   "execution_count": 0,
   "metadata": {
    "application/vnd.databricks.v1+cell": {
     "cellMetadata": {
      "byteLimit": 2048000,
      "rowLimit": 10000
     },
     "inputWidgets": {},
     "nuid": "9cb00711-4a5a-41e2-a3eb-1415783fa7be",
     "showTitle": false,
     "tableResultSettingsMap": {},
     "title": ""
    }
   },
   "outputs": [],
   "source": [
    "SELECT * FROM beans"
   ]
  },
  {
   "cell_type": "code",
   "execution_count": 0,
   "metadata": {
    "application/vnd.databricks.v1+cell": {
     "cellMetadata": {
      "byteLimit": 2048000,
      "rowLimit": 10000
     },
     "inputWidgets": {},
     "nuid": "65d1442c-d94b-42f4-a149-a6d51e70d571",
     "showTitle": false,
     "tableResultSettingsMap": {},
     "title": ""
    }
   },
   "outputs": [],
   "source": [
    "INSERT INTO beans VALUES\n",
    "('pinto', 'brown', 1.5, true),\n",
    "('green', 'green', 178.3, true),\n",
    "('beanbag chair', 'white', 40000, false)"
   ]
  },
  {
   "cell_type": "code",
   "execution_count": 0,
   "metadata": {
    "application/vnd.databricks.v1+cell": {
     "cellMetadata": {
      "byteLimit": 2048000,
      "rowLimit": 10000
     },
     "inputWidgets": {},
     "nuid": "fb3b852c-d8e2-472f-84bc-6f0b46325601",
     "showTitle": false,
     "tableResultSettingsMap": {},
     "title": ""
    }
   },
   "outputs": [],
   "source": [
    "SELECT * FROM beans"
   ]
  },
  {
   "cell_type": "code",
   "execution_count": 0,
   "metadata": {
    "application/vnd.databricks.v1+cell": {
     "cellMetadata": {
      "byteLimit": 2048000,
      "rowLimit": 10000
     },
     "inputWidgets": {},
     "nuid": "5e2c8b0a-70aa-4f0e-9775-11a5590718e4",
     "showTitle": false,
     "tableResultSettingsMap": {},
     "title": ""
    }
   },
   "outputs": [],
   "source": [
    "UPDATE beans\n",
    "SET delicious = true\n",
    "WHERE name = \"jelly\""
   ]
  },
  {
   "cell_type": "code",
   "execution_count": 0,
   "metadata": {
    "application/vnd.databricks.v1+cell": {
     "cellMetadata": {
      "byteLimit": 2048000,
      "rowLimit": 10000
     },
     "inputWidgets": {},
     "nuid": "7ed1b415-7678-4f83-b6b4-44e1b0299cc1",
     "showTitle": false,
     "tableResultSettingsMap": {},
     "title": ""
    }
   },
   "outputs": [],
   "source": [
    "-- TODO\n",
    "UPDATE beans\n",
    "SET grams = 1500\n",
    "WHERE name = \"pinto\"\n"
   ]
  },
  {
   "cell_type": "code",
   "execution_count": 0,
   "metadata": {
    "application/vnd.databricks.v1+cell": {
     "cellMetadata": {
      "byteLimit": 2048000,
      "rowLimit": 10000
     },
     "inputWidgets": {},
     "nuid": "0ed1ebbd-1e3d-4578-892e-d1a59f5f1818",
     "showTitle": false,
     "tableResultSettingsMap": {},
     "title": ""
    }
   },
   "outputs": [],
   "source": [
    "select * from beans"
   ]
  },
  {
   "cell_type": "code",
   "execution_count": 0,
   "metadata": {
    "application/vnd.databricks.v1+cell": {
     "cellMetadata": {
      "byteLimit": 2048000,
      "rowLimit": 10000
     },
     "inputWidgets": {},
     "nuid": "7b1aa953-2066-4320-822d-a62beea6e0a9",
     "showTitle": false,
     "tableResultSettingsMap": {},
     "title": ""
    }
   },
   "outputs": [],
   "source": [
    "-- TODO\n",
    "DELETE FROM beans\n",
    "WHERE delicious = FALSE"
   ]
  },
  {
   "cell_type": "code",
   "execution_count": 0,
   "metadata": {
    "application/vnd.databricks.v1+cell": {
     "cellMetadata": {
      "byteLimit": 2048000,
      "rowLimit": 10000
     },
     "inputWidgets": {},
     "nuid": "9312df58-9a68-4e3d-95fc-118cebd904c4",
     "showTitle": false,
     "tableResultSettingsMap": {},
     "title": ""
    }
   },
   "outputs": [],
   "source": [
    "CREATE OR REPLACE TEMP VIEW new_beans(name, color, grams, delicious) AS VALUES\n",
    "('black', 'black', 60.5, true),\n",
    "('lentils', 'green', 500, true),\n",
    "('kidney', 'red', 387.2, true),\n",
    "('castor', 'brown', 25, false);\n",
    "\n",
    "SELECT * FROM new_beans"
   ]
  },
  {
   "cell_type": "markdown",
   "metadata": {
    "application/vnd.databricks.v1+cell": {
     "cellMetadata": {},
     "inputWidgets": {},
     "nuid": "721e6d69-6371-4671-927d-fa7dc45c6606",
     "showTitle": false,
     "tableResultSettingsMap": {},
     "title": ""
    }
   },
   "source": [
    "Make sure your logic:\n",
    "\n",
    "Matches beans by name and color\n",
    "Updates existing beans by adding the new weight to the existing weight\n",
    "Inserts new beans only if they are delicious"
   ]
  },
  {
   "cell_type": "code",
   "execution_count": 0,
   "metadata": {
    "application/vnd.databricks.v1+cell": {
     "cellMetadata": {
      "byteLimit": 2048000,
      "rowLimit": 10000
     },
     "inputWidgets": {},
     "nuid": "dfb79d4f-ba9d-4460-a93e-26fe7520d42b",
     "showTitle": false,
     "tableResultSettingsMap": {},
     "title": ""
    }
   },
   "outputs": [],
   "source": [
    "MERGE INTO beans AS T \n",
    "USING new_beans AS S ON T.name = S.name\n",
    "WHEN MATCHED THEN UPDATE SET *\n",
    "WHEN NOT MATCHED AND S.delicious = TRUE THEN INSERT *"
   ]
  },
  {
   "cell_type": "code",
   "execution_count": 0,
   "metadata": {
    "application/vnd.databricks.v1+cell": {
     "cellMetadata": {
      "byteLimit": 2048000,
      "rowLimit": 10000
     },
     "inputWidgets": {},
     "nuid": "daee4174-aad8-460d-979b-7e5b7ee10b88",
     "showTitle": false,
     "tableResultSettingsMap": {},
     "title": ""
    }
   },
   "outputs": [],
   "source": [
    "select * from beans"
   ]
  },
  {
   "cell_type": "code",
   "execution_count": 0,
   "metadata": {
    "application/vnd.databricks.v1+cell": {
     "cellMetadata": {
      "byteLimit": 2048000,
      "rowLimit": 10000
     },
     "inputWidgets": {},
     "nuid": "f7aee1f8-6c9f-4c92-bde1-0e8c35aacd74",
     "showTitle": false,
     "tableResultSettingsMap": {},
     "title": ""
    }
   },
   "outputs": [],
   "source": [
    "UPDATE beans SET name = '' WHERE name = 'green';\n",
    "\n"
   ]
  },
  {
   "cell_type": "code",
   "execution_count": 0,
   "metadata": {
    "application/vnd.databricks.v1+cell": {
     "cellMetadata": {
      "byteLimit": 2048000,
      "rowLimit": 10000
     },
     "inputWidgets": {},
     "nuid": "95eaa271-2976-4027-9af4-38af0257ef23",
     "showTitle": false,
     "tableResultSettingsMap": {},
     "title": ""
    }
   },
   "outputs": [],
   "source": [
    "select * from beans"
   ]
  },
  {
   "cell_type": "markdown",
   "metadata": {
    "application/vnd.databricks.v1+cell": {
     "cellMetadata": {},
     "inputWidgets": {},
     "nuid": "5c485232-030b-4ec6-bbc6-2e115cef9f71",
     "showTitle": false,
     "tableResultSettingsMap": {},
     "title": ""
    }
   },
   "source": [
    "### Advanced Delta Lake Features"
   ]
  },
  {
   "cell_type": "code",
   "execution_count": 0,
   "metadata": {
    "application/vnd.databricks.v1+cell": {
     "cellMetadata": {
      "byteLimit": 2048000,
      "rowLimit": 10000
     },
     "inputWidgets": {},
     "nuid": "d48a86c8-83d8-45e5-bfbc-db0227c60f57",
     "showTitle": false,
     "tableResultSettingsMap": {},
     "title": ""
    }
   },
   "outputs": [],
   "source": [
    "CREATE TABLE IF NOT EXISTS students\n",
    "  (id INT, name STRING, value DOUBLE);\n",
    "  \n",
    "INSERT INTO students VALUES (1, \"Yve\", 1.0);\n",
    "INSERT INTO students VALUES (2, \"Omar\", 2.5);\n",
    "INSERT INTO students VALUES (3, \"Elia\", 3.3);\n",
    "\n",
    "INSERT INTO students\n",
    "VALUES \n",
    "  (4, \"Ted\", 4.7),\n",
    "  (5, \"Tiffany\", 5.5),\n",
    "  (6, \"Vini\", 6.3);\n",
    "  \n",
    "UPDATE students \n",
    "SET value = value + 1\n",
    "WHERE name LIKE \"T%\";\n",
    "\n",
    "DELETE FROM students \n",
    "WHERE value > 6;\n",
    "\n",
    "CREATE OR REPLACE TEMP VIEW updates(id, name, value, type) AS VALUES\n",
    "  (2, \"Omar\", 15.2, \"update\"),\n",
    "  (3, \"\", null, \"delete\"),\n",
    "  (7, \"Blue\", 7.7, \"insert\"),\n",
    "  (11, \"Diya\", 8.8, \"update\");\n",
    "  \n",
    "MERGE INTO students b\n",
    "USING updates u\n",
    "ON b.id=u.id\n",
    "WHEN MATCHED AND u.type = \"update\"\n",
    "  THEN UPDATE SET *\n",
    "WHEN MATCHED AND u.type = \"delete\"\n",
    "  THEN DELETE\n",
    "WHEN NOT MATCHED AND u.type = \"insert\"\n",
    "  THEN INSERT *;"
   ]
  },
  {
   "cell_type": "code",
   "execution_count": 0,
   "metadata": {
    "application/vnd.databricks.v1+cell": {
     "cellMetadata": {
      "byteLimit": 2048000,
      "rowLimit": 10000
     },
     "inputWidgets": {},
     "nuid": "df24af29-ef3e-4903-b8fc-2445e5e31c20",
     "showTitle": false,
     "tableResultSettingsMap": {},
     "title": ""
    }
   },
   "outputs": [],
   "source": [
    "DESCRIBE students;"
   ]
  },
  {
   "cell_type": "code",
   "execution_count": 0,
   "metadata": {
    "application/vnd.databricks.v1+cell": {
     "cellMetadata": {
      "byteLimit": 2048000,
      "rowLimit": 10000
     },
     "inputWidgets": {},
     "nuid": "76c5ae63-91a8-4cd3-bdfb-913044a5987f",
     "showTitle": false,
     "tableResultSettingsMap": {},
     "title": ""
    }
   },
   "outputs": [],
   "source": [
    "DESCRIBE EXTENDED students;"
   ]
  },
  {
   "cell_type": "markdown",
   "metadata": {
    "application/vnd.databricks.v1+cell": {
     "cellMetadata": {},
     "inputWidgets": {},
     "nuid": "7ce6e082-d0b7-414b-a652-b9cba434b8fd",
     "showTitle": false,
     "tableResultSettingsMap": {},
     "title": ""
    }
   },
   "source": [
    "**`DESCRIBE EXTENDED`** allows us to see important metadata about our table.\n",
    "\n",
    "**`DESCRIBE DETAIL`** is another command that allows us to explore table metadata."
   ]
  },
  {
   "cell_type": "code",
   "execution_count": 0,
   "metadata": {
    "application/vnd.databricks.v1+cell": {
     "cellMetadata": {
      "byteLimit": 2048000,
      "rowLimit": 10000
     },
     "inputWidgets": {},
     "nuid": "feb0fb97-5a49-4e9b-af09-53e6ca8009ca",
     "showTitle": false,
     "tableResultSettingsMap": {},
     "title": ""
    }
   },
   "outputs": [],
   "source": [
    "DESCRIBE DETAIL students;\n"
   ]
  },
  {
   "cell_type": "code",
   "execution_count": 0,
   "metadata": {
    "application/vnd.databricks.v1+cell": {
     "cellMetadata": {
      "byteLimit": 2048000,
      "rowLimit": 10000
     },
     "inputWidgets": {},
     "nuid": "8e577106-a1d0-4e9d-97d4-8df4aaabca11",
     "showTitle": false,
     "tableResultSettingsMap": {},
     "title": ""
    }
   },
   "outputs": [],
   "source": [
    "%python \n",
    "dbutils.fs.ls(\"dbfs:/mnt/training/student\")"
   ]
  }
 ],
 "metadata": {
  "application/vnd.databricks.v1+notebook": {
   "computePreferences": null,
   "dashboards": [],
   "environmentMetadata": {
    "base_environment": "",
    "client": "1"
   },
   "language": "sql",
   "notebookMetadata": {
    "mostRecentlyExecutedCommandWithImplicitDF": {
     "commandId": 195664975695741,
     "dataframes": [
      "_sqldf"
     ]
    },
    "pythonIndentUnit": 4
   },
   "notebookName": "Alpha_Notebook 2024-12-23 14_16_24",
   "widgets": {}
  },
  "language_info": {
   "name": "sql"
  }
 },
 "nbformat": 4,
 "nbformat_minor": 0
}
